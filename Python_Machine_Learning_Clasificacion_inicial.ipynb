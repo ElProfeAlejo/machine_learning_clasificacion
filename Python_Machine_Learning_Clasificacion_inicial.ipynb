{
  "cells": [
    {
      "cell_type": "markdown",
      "metadata": {
        "id": "uOxsWL4fyQ2J"
      },
      "source": [
        "# Aula 1 - Clasificación: ¿Cómo funciona?"
      ]
    },
    {
      "cell_type": "markdown",
      "metadata": {
        "id": "vuZVqaVCyQ2M"
      },
      "source": [
        "## 1.1 - Importando los datos"
      ]
    },
    {
      "cell_type": "code",
      "execution_count": null,
      "metadata": {
        "id": "EcFx0fP0yQ2N"
      },
      "outputs": [],
      "source": [
        "import pandas as pd"
      ]
    },
    {
      "cell_type": "code",
      "execution_count": null,
      "metadata": {
        "id": "jMxgxTXnyQ2O"
      },
      "outputs": [],
      "source": [
        "datos = pd.read_csv('Customer.csv')"
      ]
    },
    {
      "cell_type": "code",
      "execution_count": null,
      "metadata": {
        "id": "neE16a7wyQ2O"
      },
      "outputs": [],
      "source": [
        "datos.shape"
      ]
    },
    {
      "cell_type": "code",
      "execution_count": null,
      "metadata": {
        "id": "k_QTfXOSyQ2P"
      },
      "outputs": [],
      "source": [
        "datos.head()"
      ]
    },
    {
      "cell_type": "markdown",
      "metadata": {
        "id": "V8lNCeRnyQ2P"
      },
      "source": [
        "## 1.2 - Analizando las Variables"
      ]
    },
    {
      "cell_type": "code",
      "execution_count": null,
      "metadata": {
        "id": "uQLvJoZ0yQ2Q"
      },
      "outputs": [],
      "source": [
        "#Modificación de forma manual\n",
        "diccionario = {'Si': 1,\n",
        "                'No': 0}\n",
        "\n",
        "datosmodificados = datos[['Conyuge', 'Dependientes', 'TelefonoFijo', 'PagoOnline', 'Churn']].replace(diccionario)\n",
        "datosmodificados.head()"
      ]
    },
    {
      "cell_type": "code",
      "execution_count": null,
      "metadata": {
        "id": "0Dc3-8wayQ2R"
      },
      "outputs": [],
      "source": [
        "#Transformación con get_dummies\n",
        "dummie_datos = pd.get_dummies(datos.drop(['Conyuge', 'Dependientes', 'TelefonoFijo', 'PagoOnline', 'Churn'],\n",
        "                axis=1))\n",
        "\n",
        "#Unión de los datos transformados con los que ya teníamos\n",
        "datos_final = pd.concat([datosmodificados, dummie_datos], axis=1)"
      ]
    },
    {
      "cell_type": "code",
      "source": [
        "datos_final.head()"
      ],
      "metadata": {
        "id": "UmQrjUnh08vu"
      },
      "execution_count": null,
      "outputs": []
    },
    {
      "cell_type": "markdown",
      "source": [
        "## 1.3 - Definición Formal"
      ],
      "metadata": {
        "id": "D1YLHA3h37s1"
      }
    },
    {
      "cell_type": "markdown",
      "source": [
        "Informaciones para la clasificación:\n",
        "\n",
        "$X$ = inputs (datos de entrada)\n",
        "\n",
        "$y$ = outputs (datos de salida)"
      ],
      "metadata": {
        "id": "sSgnt7QWM5rm"
      }
    },
    {
      "cell_type": "code",
      "source": [
        "#TIP\n",
        "pd.set_option('display.max_columns', 39)"
      ],
      "metadata": {
        "id": "k_o0S4UyOqzd"
      },
      "execution_count": null,
      "outputs": []
    },
    {
      "cell_type": "code",
      "source": [
        "datos_final.head()"
      ],
      "metadata": {
        "id": "oiHVlSC737NE"
      },
      "execution_count": null,
      "outputs": []
    },
    {
      "cell_type": "markdown",
      "source": [
        "\n",
        "$y_i$ = $f(x_i)$"
      ],
      "metadata": {
        "id": "mlxxn4VYTQnV"
      }
    },
    {
      "cell_type": "code",
      "source": [
        "Xmaria = [[0,0,1,1,0,0,39.90,1,0,0,0,1,0,1,0,0,0,0,1,1,1,0,0,1,0,1,0,0,0,0,1,0,0,1,0,0,0,1]]"
      ],
      "metadata": {
        "id": "JVqSH1yp4Cq2"
      },
      "execution_count": null,
      "outputs": []
    },
    {
      "cell_type": "code",
      "source": [
        "#ymaria = ?"
      ],
      "metadata": {
        "id": "1Btl3Wct4CoN"
      },
      "execution_count": null,
      "outputs": []
    },
    {
      "cell_type": "markdown",
      "source": [
        "Nuevo par de informaciones = ($Xmaria$, $ymaria$)"
      ],
      "metadata": {
        "id": "n4nyxwPFTncE"
      }
    },
    {
      "cell_type": "markdown",
      "source": [
        "## 1.4 - Balanceamiento de los datos"
      ],
      "metadata": {
        "id": "zCcuXt0FZfNe"
      }
    },
    {
      "cell_type": "code",
      "source": [
        "#variable target está desbalanceada\n",
        "import seaborn as sns\n",
        "%matplotlib inline\n",
        "ax = sns.countplot(x='Churn', data=datos_final)"
      ],
      "metadata": {
        "id": "PZ98-642QERQ"
      },
      "execution_count": null,
      "outputs": []
    },
    {
      "cell_type": "code",
      "source": [
        "datos_final.Churn.value_counts()"
      ],
      "metadata": {
        "id": "tDmNwxUGQt0U"
      },
      "execution_count": null,
      "outputs": []
    },
    {
      "cell_type": "code",
      "source": [
        "#biblioteca para balancear los datos utilizando over_sampling\n",
        "from imblearn.over_sampling import SMOTE"
      ],
      "metadata": {
        "id": "TcFY4SXuZyIO"
      },
      "execution_count": null,
      "outputs": []
    },
    {
      "cell_type": "code",
      "source": [
        "#dividiendo los datos en características y target\n",
        "X = datos_final.drop('Churn', axis = 1)\n",
        "y = datos_final['Churn']"
      ],
      "metadata": {
        "id": "0-I2aDVhQUdu"
      },
      "execution_count": null,
      "outputs": []
    },
    {
      "cell_type": "code",
      "source": [
        "smt = SMOTE(random_state=123)\n",
        "X, y = smt.fit_resample(X, y)"
      ],
      "metadata": {
        "id": "5lIY03boZyBN"
      },
      "execution_count": null,
      "outputs": []
    },
    {
      "cell_type": "code",
      "source": [
        "#unión de los datos balanceados\n",
        "datos_final = pd.concat([X, y], axis=1)"
      ],
      "metadata": {
        "id": "bnlqzLVUZl0u"
      },
      "execution_count": null,
      "outputs": []
    },
    {
      "cell_type": "code",
      "source": [
        "#verificación 1 - unión de los datos\n",
        "datos_final.head(2)"
      ],
      "metadata": {
        "id": "GQj3bEEOZ42e"
      },
      "execution_count": null,
      "outputs": []
    },
    {
      "cell_type": "code",
      "source": [
        "#verificación 2 - balanceamiento\n",
        "ax = sns.countplot(x='Churn', data=datos_final)"
      ],
      "metadata": {
        "id": "jSzaHOlyZ7r-"
      },
      "execution_count": null,
      "outputs": []
    },
    {
      "cell_type": "code",
      "source": [
        "datos_final.Churn.value_counts()"
      ],
      "metadata": {
        "id": "Zx0HYHd3RGl7"
      },
      "execution_count": null,
      "outputs": []
    },
    {
      "cell_type": "markdown",
      "source": [
        "# Aula 2 - Método baseado en la proximidad"
      ],
      "metadata": {
        "id": "_d4jEXubcPuO"
      }
    },
    {
      "cell_type": "markdown",
      "source": [
        "## 2.1 - Modelo K-nearest neighbors (KNN)\n",
        "\n",
        "(PPT)"
      ],
      "metadata": {
        "id": "PVGb9U19cW4V"
      }
    },
    {
      "cell_type": "markdown",
      "source": [
        "## 2.2 - KNN en la práctica"
      ],
      "metadata": {
        "id": "MvIfmyE2ckVV"
      }
    },
    {
      "cell_type": "code",
      "source": [
        "Xmaria"
      ],
      "metadata": {
        "id": "blRWRPdXcWJ1"
      },
      "execution_count": null,
      "outputs": []
    },
    {
      "cell_type": "code",
      "source": [
        "#ymaria = ?"
      ],
      "metadata": {
        "id": "tdwhZOphjbIg"
      },
      "execution_count": null,
      "outputs": []
    },
    {
      "cell_type": "code",
      "source": [
        "#División en inputs y outputs\n",
        "X = datos_final.drop('Churn', axis = 1)\n",
        "y = datos_final['Churn']"
      ],
      "metadata": {
        "id": "h0re3ABxjlLW"
      },
      "execution_count": null,
      "outputs": []
    },
    {
      "cell_type": "code",
      "source": [
        "#biblioteca para padronizar los datos\n",
        "from sklearn.preprocessing import StandardScaler"
      ],
      "metadata": {
        "id": "cw_-29nlkLMV"
      },
      "execution_count": null,
      "outputs": []
    },
    {
      "cell_type": "code",
      "source": [
        "norm = StandardScaler()\n",
        "X_normalizado = norm.fit_transform(X)\n",
        "X_normalizado"
      ],
      "metadata": {
        "id": "zGYhtla_kgpd"
      },
      "execution_count": null,
      "outputs": []
    },
    {
      "cell_type": "code",
      "source": [
        "X_normalizado[0]"
      ],
      "metadata": {
        "id": "Cs-ivgv7qsKL"
      },
      "execution_count": null,
      "outputs": []
    },
    {
      "cell_type": "code",
      "source": [
        "Xmaria_normalizado = norm.transform(pd.DataFrame(Xmaria, columns = X.columns))\n",
        "Xmaria_normalizado"
      ],
      "metadata": {
        "id": "Ll6FnFO-kosd"
      },
      "execution_count": null,
      "outputs": []
    },
    {
      "cell_type": "markdown",
      "source": [
        "Distancia Euclidiana:\n",
        "\n",
        "$\\sqrt{\\sum_{i=1}^k(a_{i}-b_{i})^2}$\n"
      ],
      "metadata": {
        "id": "pgU6OxezlB_F"
      }
    },
    {
      "cell_type": "code",
      "source": [
        "import numpy as np"
      ],
      "metadata": {
        "id": "SbxwDdiIk36F"
      },
      "execution_count": null,
      "outputs": []
    },
    {
      "cell_type": "code",
      "source": [
        "a = Xmaria_normalizado"
      ],
      "metadata": {
        "id": "9oywjidemxXl"
      },
      "execution_count": null,
      "outputs": []
    },
    {
      "cell_type": "code",
      "source": [
        "b = X_normalizado[0]"
      ],
      "metadata": {
        "id": "JL85j369li4d"
      },
      "execution_count": null,
      "outputs": []
    },
    {
      "cell_type": "code",
      "source": [
        "#1 - comenzamos restando\n",
        "a - b"
      ],
      "metadata": {
        "id": "mmhEqixanDgF"
      },
      "execution_count": null,
      "outputs": []
    },
    {
      "cell_type": "code",
      "source": [
        "#2 - después realizamos la exponenciación\n",
        "np.square(a-b)"
      ],
      "metadata": {
        "id": "_aBlq3wPnF49"
      },
      "execution_count": null,
      "outputs": []
    },
    {
      "cell_type": "code",
      "source": [
        "#3 - realizamos la suma\n",
        "np.sum(np.square(a-b))"
      ],
      "metadata": {
        "id": "_bDEeU_znIxH"
      },
      "execution_count": null,
      "outputs": []
    },
    {
      "cell_type": "code",
      "source": [
        "#4 - finalmente obtenemos la raiz cuadrada y tenemos nuestra distancia\n",
        "np.sqrt(103.36325779671671)"
      ],
      "metadata": {
        "id": "o9NJQSP-nMUm"
      },
      "execution_count": null,
      "outputs": []
    },
    {
      "cell_type": "markdown",
      "source": [
        "## 2.3 - Implementando el modelo"
      ],
      "metadata": {
        "id": "_h0pFQfxwYW-"
      }
    },
    {
      "cell_type": "code",
      "source": [
        "#biblioteca para división de los datos\n",
        "from sklearn.model_selection import train_test_split"
      ],
      "metadata": {
        "id": "XtvZ-tMiwjN2"
      },
      "execution_count": null,
      "outputs": []
    },
    {
      "cell_type": "code",
      "source": [
        "X_train, X_test, y_train, y_test = train_test_split(X_normalizado, y, test_size=0.3, random_state=123)"
      ],
      "metadata": {
        "id": "lWaKqJrTwxE-"
      },
      "execution_count": null,
      "outputs": []
    },
    {
      "cell_type": "markdown",
      "source": [
        "### Entrenamiento y prueba"
      ],
      "metadata": {
        "id": "LOKzwv4Uw0u7"
      }
    },
    {
      "cell_type": "code",
      "source": [
        "#biblioteca para crear el modelo de machine learning\n",
        "from sklearn.neighbors import KNeighborsClassifier"
      ],
      "metadata": {
        "id": "g6-t-BpEwy3G"
      },
      "execution_count": null,
      "outputs": []
    },
    {
      "cell_type": "code",
      "source": [
        "#iniciar el modelo (creamos el modelo) - por default son 5 vecinos\n",
        "knn = KNeighborsClassifier(metric='euclidean')"
      ],
      "metadata": {
        "id": "qFs4VHnhw4-O"
      },
      "execution_count": null,
      "outputs": []
    },
    {
      "cell_type": "code",
      "source": [
        "#entrenando el modelo con los datos de entrenamiento\n",
        "knn.fit(X_train, y_train)"
      ],
      "metadata": {
        "id": "H05zbtgIw6gt"
      },
      "execution_count": null,
      "outputs": []
    },
    {
      "cell_type": "code",
      "source": [
        "#probando el modelo con los datos de prueba\n",
        "prediccion_knn = knn.predict(X_test)"
      ],
      "metadata": {
        "id": "2LrZiJbvw-Mf"
      },
      "execution_count": null,
      "outputs": []
    },
    {
      "cell_type": "code",
      "source": [
        "prediccion_knn"
      ],
      "metadata": {
        "id": "dirCpdIO1MZ9"
      },
      "execution_count": null,
      "outputs": []
    },
    {
      "cell_type": "markdown",
      "source": [
        "# Aula 3 - Método probabilístico"
      ],
      "metadata": {
        "id": "EKHFh1Pr7G40"
      }
    },
    {
      "cell_type": "markdown",
      "source": [
        "## 3.1 - Teorema de Naive Bayes\n",
        "\n",
        "(PPT)"
      ],
      "metadata": {
        "id": "b_EAQ1nf7VUu"
      }
    },
    {
      "cell_type": "markdown",
      "source": [
        "## 3.2 - Modelo Bernoulli Naive Bayes\n",
        "\n",
        "(PPT)"
      ],
      "metadata": {
        "id": "02cUbMWf7dEN"
      }
    },
    {
      "cell_type": "markdown",
      "source": [
        "## 3.3 - Entrenamiento y prueba"
      ],
      "metadata": {
        "id": "zIhV625O7lf9"
      }
    },
    {
      "cell_type": "code",
      "source": [
        "#biblioteca para crear el modelo de machine learning\n",
        "from sklearn.naive_bayes import BernoulliNB"
      ],
      "metadata": {
        "id": "vV4i1JC37xJN"
      },
      "execution_count": null,
      "outputs": []
    },
    {
      "cell_type": "code",
      "source": [
        "#escojo utilizar mediana, porque es el valor central de nuestros datos ordenados\n",
        "mediana = np.median(X_train)\n",
        "mediana"
      ],
      "metadata": {
        "id": "AEzm1GSZ7tZZ"
      },
      "execution_count": null,
      "outputs": []
    },
    {
      "cell_type": "code",
      "source": [
        "#Binarizando los recursos usando la mediana\n",
        "X_train_binarizado = np.where(X_train > mediana, 1, 0)"
      ],
      "metadata": {
        "id": "X0HEgH1UXG1l"
      },
      "execution_count": null,
      "outputs": []
    },
    {
      "cell_type": "code",
      "source": [
        "X_train_binarizado"
      ],
      "metadata": {
        "id": "e5HdbyA27cUJ"
      },
      "execution_count": null,
      "outputs": []
    },
    {
      "cell_type": "code",
      "source": [
        "y_train"
      ],
      "metadata": {
        "id": "HevdnXNV7rPg"
      },
      "execution_count": null,
      "outputs": []
    },
    {
      "cell_type": "code",
      "source": [
        "#creamos el modelo\n",
        "bnb = BernoulliNB()"
      ],
      "metadata": {
        "id": "KnTnDve07ylb"
      },
      "execution_count": null,
      "outputs": []
    },
    {
      "cell_type": "code",
      "source": [
        "#entrenando el modelo\n",
        "bnb.fit(X_train_binarizado, y_train)"
      ],
      "metadata": {
        "id": "qIIT0uX273SN"
      },
      "execution_count": null,
      "outputs": []
    },
    {
      "cell_type": "code",
      "source": [
        "#Binarizando la base de prueba\n",
        "X_test_binarizado = np.where(X_test > np.median(X_test), 1, 0)"
      ],
      "metadata": {
        "id": "2v7NF1BipX6w"
      },
      "execution_count": null,
      "outputs": []
    },
    {
      "cell_type": "code",
      "source": [
        "#probando el modelo\n",
        "prediccion_BNb = bnb.predict(X_test_binarizado)"
      ],
      "metadata": {
        "id": "BpCOWhx674G6"
      },
      "execution_count": null,
      "outputs": []
    },
    {
      "cell_type": "code",
      "source": [
        "prediccion_BNb"
      ],
      "metadata": {
        "id": "KIS6Syvf79ou"
      },
      "execution_count": null,
      "outputs": []
    },
    {
      "cell_type": "markdown",
      "source": [
        "# Aula 4 - Método Simbólico"
      ],
      "metadata": {
        "id": "I0QZ6_rY00NG"
      }
    },
    {
      "cell_type": "markdown",
      "source": [
        "## 4.1 - ¿Qué es un árbol de decisión?\n",
        "\n",
        "(PPT)"
      ],
      "metadata": {
        "id": "VglEIUuC2jkO"
      }
    },
    {
      "cell_type": "markdown",
      "source": [
        "## 4.2 - ¿Cómo funciona un árbol de decisión?\n",
        "\n",
        "(PPT)"
      ],
      "metadata": {
        "id": "jdtLgDk3sAQZ"
      }
    },
    {
      "cell_type": "markdown",
      "source": [
        "## 4.3 - Implementando el modelo"
      ],
      "metadata": {
        "id": "cYFuWWnTsJLP"
      }
    },
    {
      "cell_type": "code",
      "source": [
        "#biblioteca para crear el modelo de machine learning\n",
        "from sklearn.tree import DecisionTreeClassifier"
      ],
      "metadata": {
        "id": "VZBVqKxE2i10"
      },
      "execution_count": null,
      "outputs": []
    },
    {
      "cell_type": "code",
      "source": [
        "#iniciando el modelo\n",
        "dtc = DecisionTreeClassifier(criterion='entropy', random_state=42)"
      ],
      "metadata": {
        "id": "AR0fPU6qsPmg"
      },
      "execution_count": null,
      "outputs": []
    },
    {
      "cell_type": "code",
      "source": [
        "#entrenando el modelo\n",
        "dtc.fit(X_train, y_train)"
      ],
      "metadata": {
        "id": "zG5vDatzsV7D"
      },
      "execution_count": null,
      "outputs": []
    },
    {
      "cell_type": "code",
      "source": [
        "#verificando la importancia de cada atributo\n",
        "dtc.feature_importances_"
      ],
      "metadata": {
        "id": "Gx2S564TiNqI"
      },
      "execution_count": null,
      "outputs": []
    },
    {
      "cell_type": "code",
      "source": [
        "prediccion_ArbolDecision = dtc.predict(X_test)"
      ],
      "metadata": {
        "id": "1N3ogMwXsYLJ"
      },
      "execution_count": null,
      "outputs": []
    },
    {
      "cell_type": "code",
      "source": [
        "prediccion_ArbolDecision"
      ],
      "metadata": {
        "id": "8yWcv1rCsbIT"
      },
      "execution_count": null,
      "outputs": []
    },
    {
      "cell_type": "markdown",
      "source": [
        "# Aula 5 - Validación de los modelos"
      ],
      "metadata": {
        "id": "lfmj_l6ztF5J"
      }
    },
    {
      "cell_type": "markdown",
      "source": [
        "## 5.1 - Matriz de confusión\n",
        "\n"
      ],
      "metadata": {
        "id": "5LcpGgohtOM5"
      }
    },
    {
      "cell_type": "markdown",
      "source": [
        "![image.png](https://raw.githubusercontent.com/ElProfeAlejo/machine_learning_clasificacion/main/imagen_5_1.png)"
      ],
      "metadata": {
        "id": "BbHrkrAnxhmv"
      }
    },
    {
      "cell_type": "code",
      "source": [
        "from sklearn.metrics import confusion_matrix"
      ],
      "metadata": {
        "id": "dIhkghN1tM3d"
      },
      "execution_count": null,
      "outputs": []
    },
    {
      "cell_type": "code",
      "source": [
        "print(confusion_matrix(y_test, prediccion_knn))"
      ],
      "metadata": {
        "id": "vy5vfPQ7mnmP"
      },
      "execution_count": null,
      "outputs": []
    },
    {
      "cell_type": "code",
      "source": [
        "print(confusion_matrix(y_test, prediccion_BNb))"
      ],
      "metadata": {
        "id": "Y_TkgT9pmnj3"
      },
      "execution_count": null,
      "outputs": []
    },
    {
      "cell_type": "code",
      "source": [
        "print(confusion_matrix(y_test, prediccion_ArbolDecision))"
      ],
      "metadata": {
        "id": "hNAbk_Pimnhw"
      },
      "execution_count": null,
      "outputs": []
    },
    {
      "cell_type": "markdown",
      "source": [
        "## 5.2 - Accuracy\n",
        "A partir del cálculo de la matriz de confusión, podemos inferir otras métricas, como el accuracy.\n",
        "\n",
        "\n",
        "\n",
        "\n",
        "$ACC$ = ${TP + TN \\over TP + FP + TN + FN}$"
      ],
      "metadata": {
        "id": "sQb7vnC12XUf"
      }
    },
    {
      "cell_type": "code",
      "source": [
        "from sklearn.metrics import accuracy_score"
      ],
      "metadata": {
        "id": "Ng67mpWk2af1"
      },
      "execution_count": null,
      "outputs": []
    },
    {
      "cell_type": "code",
      "source": [
        "#modelo KNN\n",
        "print(accuracy_score(y_test, prediccion_knn))"
      ],
      "metadata": {
        "id": "gp4Purjf2kZe"
      },
      "execution_count": null,
      "outputs": []
    },
    {
      "cell_type": "code",
      "source": [
        "#modelo Bernoulli de Naive Bayes\n",
        "print(accuracy_score(y_test, prediccion_BNb))"
      ],
      "metadata": {
        "id": "7JrJXLJr2loH"
      },
      "execution_count": null,
      "outputs": []
    },
    {
      "cell_type": "code",
      "source": [
        "#modelo Arbol de Decisión\n",
        "print(accuracy_score(y_test, prediccion_ArbolDecision))"
      ],
      "metadata": {
        "id": "BkvmkoN92nBX"
      },
      "execution_count": null,
      "outputs": []
    },
    {
      "cell_type": "markdown",
      "source": [
        "## 5.3 - Precisión\n",
        "\n",
        "Otra métrica importante es la precisión, que calcula cuántos se clasificaron correctamente como positivos ($TP$).\n",
        "\n",
        "$PS$ = ${TP \\over TP + FP}$"
      ],
      "metadata": {
        "id": "kfzcKhw42tmX"
      }
    },
    {
      "cell_type": "code",
      "source": [
        "from sklearn.metrics import precision_score"
      ],
      "metadata": {
        "id": "BM4AbIm62wP6"
      },
      "execution_count": null,
      "outputs": []
    },
    {
      "cell_type": "code",
      "source": [
        "#modelo KNN\n",
        "print(precision_score(y_test, prediccion_knn))"
      ],
      "metadata": {
        "id": "hBD4K9r523g4"
      },
      "execution_count": null,
      "outputs": []
    },
    {
      "cell_type": "code",
      "source": [
        "#modelo Bernoulli de Naive Bayes\n",
        "print(precision_score(y_test, prediccion_BNb))"
      ],
      "metadata": {
        "id": "mUJumEYp24rf"
      },
      "execution_count": null,
      "outputs": []
    },
    {
      "cell_type": "code",
      "source": [
        "#modelo Arbol de Decisión\n",
        "print(precision_score(y_test, prediccion_ArbolDecision))"
      ],
      "metadata": {
        "id": "ST2dcOPJ25IS"
      },
      "execution_count": null,
      "outputs": []
    },
    {
      "cell_type": "markdown",
      "source": [
        "## 5.4 - Recall\n",
        "\n",
        "Otra métrica es el Recall o sensibilidad, calcula qué tan bueno es el modelo para clasificar correctamente un resultado positivo ($TP$).\n",
        "\n",
        "$RC$ = ${TP \\over TP + FN}$"
      ],
      "metadata": {
        "id": "TW59AoyU3DvW"
      }
    },
    {
      "cell_type": "code",
      "source": [
        "from sklearn.metrics import recall_score"
      ],
      "metadata": {
        "id": "SGX6E4Pi3LCt"
      },
      "execution_count": null,
      "outputs": []
    },
    {
      "cell_type": "code",
      "source": [
        "#modelo KNN\n",
        "print(recall_score(y_test, prediccion_knn))"
      ],
      "metadata": {
        "id": "CVEe2W_B3OTc"
      },
      "execution_count": null,
      "outputs": []
    },
    {
      "cell_type": "code",
      "source": [
        "#modelo Bernoulli de Naive Bayes\n",
        "print(recall_score(y_test, prediccion_BNb))"
      ],
      "metadata": {
        "id": "edPMCLA93Pw_"
      },
      "execution_count": null,
      "outputs": []
    },
    {
      "cell_type": "code",
      "source": [
        "#modelo Arbol de Decisión\n",
        "print(recall_score(y_test, prediccion_ArbolDecision))"
      ],
      "metadata": {
        "id": "4Wk5-4ej3Q_3"
      },
      "execution_count": null,
      "outputs": []
    },
    {
      "cell_type": "markdown",
      "source": [
        "## 5.5 - Escogiendo el mejor modelo\n"
      ],
      "metadata": {
        "id": "4O7N26Fg3XwI"
      }
    },
    {
      "cell_type": "code",
      "source": [
        "#Ejemplo - análisis de las precisiones previamente calculadas\n",
        "print('Modelo KNN: ', precision_score(y_test, prediccion_knn))\n",
        "print('Modelo Bernoulli de Naive Bayes: ', precision_score(y_test, prediccion_BNb))\n",
        "print('Modelo Arbol de Decisión: ', precision_score(y_test, prediccion_ArbolDecision))"
      ],
      "metadata": {
        "id": "RJ5Ls9lx3pfI"
      },
      "execution_count": null,
      "outputs": []
    },
    {
      "cell_type": "code",
      "source": [
        "#Probando el mejor modelo para Maria\n",
        "prediccion_maria = knn.predict(Xmaria_normalizado)\n",
        "diccionario = {'Si': 1, 'No': 0}\n",
        "\n",
        "clave_encontrada = next((clave for clave, valor in diccionario.items() if valor == prediccion_maria[0]), None)\n",
        "print(f\"La probabilidad de que Maria se convierta en Churn es: {clave_encontrada}\")"
      ],
      "metadata": {
        "id": "BmhZXFOFganM"
      },
      "execution_count": null,
      "outputs": []
    }
  ],
  "metadata": {
    "interpreter": {
      "hash": "df87b94f50c6b8081a9a425f6ade537f06441a824b7d68371eb29c5a5eb2838b"
    },
    "kernelspec": {
      "display_name": "Python 3.10.4 64-bit",
      "language": "python",
      "name": "python3"
    },
    "language_info": {
      "codemirror_mode": {
        "name": "ipython",
        "version": 3
      },
      "file_extension": ".py",
      "mimetype": "text/x-python",
      "name": "python",
      "nbconvert_exporter": "python",
      "pygments_lexer": "ipython3",
      "version": "3.10.4"
    },
    "orig_nbformat": 4,
    "colab": {
      "provenance": [],
      "collapsed_sections": [
        "uOxsWL4fyQ2J",
        "_d4jEXubcPuO",
        "EKHFh1Pr7G40",
        "I0QZ6_rY00NG",
        "lfmj_l6ztF5J"
      ]
    }
  },
  "nbformat": 4,
  "nbformat_minor": 0
}